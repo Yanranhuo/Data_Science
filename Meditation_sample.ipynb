{
 "cells": [
  {
   "cell_type": "markdown",
   "metadata": {},
   "source": [
    "# Meditation using Wavelet Transform"
   ]
  },
  {
   "cell_type": "code",
   "execution_count": 2,
   "metadata": {},
   "outputs": [],
   "source": [
    "import pandas as pd\n",
    "import scipy\n",
    "import numpy as np\n",
    "from scipy import signal\n",
    "import matplotlib.pyplot as plt\n",
    "%matplotlib inline\n",
    "import os\n",
    "import pywt\n",
    "from sklearn.feature_selection import VarianceThreshold\n",
    "from sklearn.cross_validation import train_test_split\n",
    "from sklearn.preprocessing import StandardScaler\n",
    "from sklearn.linear_model import LogisticRegression\n",
    "from sklearn import svm\n",
    "from sklearn.decomposition import PCA\n",
    "from sklearn.cluster import KMeans\n",
    "from pywt import wavedecn, waverecn"
   ]
  },
  {
   "cell_type": "code",
   "execution_count": 752,
   "metadata": {},
   "outputs": [],
   "source": [
    "# y = []\n",
    "# lst = []\n",
    "# X = []\n",
    "# direc = '/Users/yanran/Documents/Brainco_eyeblink/yanran data/NewOldMeditationData'\n",
    "# for root, dirs, files in os.walk(direc):\n",
    "#     lst.append(files)\n",
    "# for i in files:\n",
    "#     if 'Meditation_flatten' in i:\n",
    "#         X.append(np.loadtxt(os.path.join(direc,i)))\n",
    "#         y.append(1)\n",
    "#     elif 'CloseEyeRelax3_flatten' in i:\n",
    "#         X.append(np.loadtxt(os.path.join(direc,i)))\n",
    "#         y.append(0)"
   ]
  },
  {
   "cell_type": "code",
   "execution_count": 753,
   "metadata": {},
   "outputs": [],
   "source": [
    "# meditation_lst = []\n",
    "# for i in range(0,len(X)):\n",
    "#     meditation_lst.append(X[i][0:20000])"
   ]
  },
  {
   "cell_type": "code",
   "execution_count": 754,
   "metadata": {},
   "outputs": [],
   "source": [
    "##################################   data  reading #####################################\n",
    "\n",
    "# y = []\n",
    "# X1 = []\n",
    "# X2 = []\n",
    "# lst2 = []\n",
    "# meditation_lst = []\n",
    "# direc = '/Users/yanran/exp_platform/Meditation_data'\n",
    "# for root, dirs, files in os.walk(direc):  \n",
    "#     lst2.append(root)            \n",
    "# for path in lst2[1:]:\n",
    "#     f_ls = os.listdir(path)\n",
    "#     for f in f_ls:\n",
    "#         if ('Meditation3_flatten') in f:\n",
    "#             X1.append(np.loadtxt(os.path.join(path,f)))\n",
    "# #             y.append(1)\n",
    "# #         elif ('Meditation6_flatten') in f:\n",
    "# #             X1.append(np.loadtxt(os.path.join(path,f)))\n",
    "# # #             y.append(1)\n",
    "#         elif ('Relax3_flatten') in f:\n",
    "#             X2.append(np.loadtxt(os.path.join(path,f)))\n",
    "# #             y.append(0)"
   ]
  },
  {
   "cell_type": "code",
   "execution_count": 3,
   "metadata": {},
   "outputs": [],
   "source": [
    "X1 = []\n",
    "X2 = []\n",
    "lst = []\n",
    "X = []\n",
    "y = []\n",
    "meditation_lst =[]\n",
    "direc = '/Users/yanran/Documents/Brainco_eyeblink/yanran data/NewOldMeditationData'\n",
    "for root, dirs, files in os.walk(direc):\n",
    "    lst.append(files)\n",
    "for i in files:\n",
    "    if 'Meditation_flatten' in i:\n",
    "        X1.append(np.loadtxt(os.path.join(direc,i)))\n",
    "    elif 'CloseEyeRelax3_flatten' in i:\n",
    "        X2.append(np.loadtxt(os.path.join(direc,i)))\n",
    "for j in range(0,len(X1)):\n",
    "    for k in range(0,20000,800):\n",
    "        meditation_lst.append(X1[j][k:k+800])\n",
    "        y.append(1)\n",
    "for m in range(0,len(X2)):\n",
    "    for n in range(0,20000,800):\n",
    "        meditation_lst.append(X2[m][n:n+800])\n",
    "        y.append(0)"
   ]
  },
  {
   "cell_type": "code",
   "execution_count": 5,
   "metadata": {},
   "outputs": [
    {
     "name": "stdout",
     "output_type": "stream",
     "text": [
      "(575, 800) (575,) 575\n"
     ]
    }
   ],
   "source": [
    "X = np.array(meditation_lst)\n",
    "y = np.array(y)\n",
    "print (X.shape, y.shape, len(X))"
   ]
  },
  {
   "cell_type": "code",
   "execution_count": 863,
   "metadata": {},
   "outputs": [],
   "source": [
    "# # pywt.downcoef('a', X, 'db2', mode='symmetric', level=2)\n",
    "# w = pywt.Wavelet('sym5')\n",
    "# pywt.dwt_coeff_len(len(X), filter_len=w.dec_len, mode='symmetric')"
   ]
  },
  {
   "cell_type": "code",
   "execution_count": 864,
   "metadata": {},
   "outputs": [],
   "source": [
    "# coeffs[-2] == np.zeros_like(coeffs[-2])\n",
    "# coeffs = pywt.wavedec(X[1], 'db2', level=2)\n",
    "# ca,cb,ce = coeffs\n",
    "# #max_level of useful decomposition \n",
    "# w = pywt.Wavelet('sym5')\n",
    "# print pywt.dwt_max_level(len(X[0]), filter_len=w.dec_len)\n",
    "# print len(ca),len(cb),len(ce)"
   ]
  },
  {
   "cell_type": "code",
   "execution_count": 8,
   "metadata": {},
   "outputs": [
    {
     "data": {
      "text/plain": [
       "[array([  12.41267669,    9.24340046,   56.54476751,   94.13430964,\n",
       "          88.97231153,  137.66544058,  172.12752737,   -6.43672959,\n",
       "        -230.23349002, -200.94334134, -176.51040822, -119.31553137,\n",
       "         -83.13080729,  -54.35479436,  -51.03280319,  -57.50439696,\n",
       "         -89.40661784,  -88.66391149, -112.66710758,  -57.39457004,\n",
       "         -78.97691833,  -76.0560908 ,  -84.33346466,  -71.33840896,\n",
       "         -39.42757782,  -26.47224492,  -27.69279116,   10.6886594 ,\n",
       "          67.04610592,   66.1638794 ,  109.33928664,  149.84261059,\n",
       "         219.68624668,  290.2655613 ,  296.57617228,  350.03259385,\n",
       "         363.10632499,  351.48177458,  420.30580341,  448.77203629,\n",
       "         385.67695259,  304.00142192,  310.42771288,  250.15423384,\n",
       "         211.57489791,  198.56392702,  199.65779016,  182.02184249,\n",
       "         194.48647701,  282.86718997,  281.10724388,  264.73775332,\n",
       "         153.76768304,    1.30636563, -117.6861045 , -193.76672017,\n",
       "        -217.8498755 , -201.8102008 , -234.37939393, -242.28824608,\n",
       "        -239.94649855, -222.26507445, -230.92328104, -233.59993147,\n",
       "        -201.67545256, -185.26613109, -173.89931992, -150.33927894,\n",
       "        -135.44965748, -100.85263817, -146.23966477, -210.01442197,\n",
       "        -224.84954065, -208.81551069, -216.84664847, -283.9455887 ,\n",
       "        -362.49394198, -380.58473166, -352.98879608, -351.00319759,\n",
       "        -334.94454698, -287.7369557 , -203.9445662 , -149.96241174,\n",
       "        -190.0544378 , -145.54676419,  -92.05777911,  -86.57243308,\n",
       "        -128.33214918, -121.26075304,  -71.72278487,  -45.44558364,\n",
       "          15.17358406,   78.29488754,   96.44610985,  110.89134696,\n",
       "         113.29798053,  146.45890856,  168.63431141,  174.70042546,\n",
       "         152.22940853,  174.34952636,  191.7120503 ,  203.44113747,\n",
       "         163.25397493,  232.61882809,  268.60060441,  373.13595933,\n",
       "         480.9928505 ,  661.02175471,  679.56893088,  627.09792352,\n",
       "         522.99234633,  429.72613282,  321.99452191,  291.98328137,\n",
       "         227.05469137,  146.25030548,  115.39647438,   82.1873766 ,\n",
       "          32.54851351,  -15.31041554,  -49.77564317,  -81.81018869,\n",
       "        -146.12564362, -175.80982207, -208.17048055, -163.7089559 ,\n",
       "        -174.51885706, -153.05544005, -149.07853124, -167.28119986,\n",
       "        -127.75317466, -140.64938621, -163.16911596, -138.46607789,\n",
       "        -128.18013965, -128.33785914, -100.36282344,  -83.18327496,\n",
       "        -129.06666318, -157.59661654, -150.92643086,  -88.65335124,\n",
       "        -112.19595071, -122.76471255, -105.24738137, -112.33155007,\n",
       "         -92.15522801,  -65.05948645,  -63.65320268,  -47.37284743,\n",
       "         -73.92966177,  -50.78140937,  -24.94069845,  -61.40018315,\n",
       "         -70.33875595,  -64.65679045,  -57.80498077,  -50.15078644,\n",
       "         -48.72731665,  -26.35374097,  -14.45954899,  -18.77913601,\n",
       "         -20.49515687,  -32.07874269,   19.1997955 ,  -16.99326595,\n",
       "          47.1961703 ,   69.09031988,   42.01168749,   22.14370661,\n",
       "          13.68660517,  -40.31595891,  -49.97689684,  -17.65300544,\n",
       "         -11.4084072 ,  -13.96607317,  -13.6852596 ,    8.49508232,\n",
       "         -25.21098128,  -34.92227505,    3.34113554,    7.25204459,\n",
       "          24.1129116 ,   86.0330867 ,   85.25025281,   48.33242817,\n",
       "          37.93130537,   -4.51177113,   -8.96889133,    4.64776284,\n",
       "         -35.83421871,  -58.61497691,  -47.27844183,  -71.8748088 ,\n",
       "         -54.93592395,  -55.56310276,  -18.19473244,    7.48250673,\n",
       "         -11.14173809,   11.04523567]),\n",
       " array([ 9.21213216e-01, -8.77923589e+00,  2.12684421e+01, -1.40360903e+01,\n",
       "         1.46414036e+01,  1.36661291e-01,  6.80081620e+01, -4.68906478e+01,\n",
       "        -3.92763320e+00,  9.42775444e+00, -1.47631517e+01,  9.26848806e+00,\n",
       "         5.22065733e+00, -9.37669123e+00, -6.74648754e-01,  5.26059032e+00,\n",
       "         9.28157831e-02,  4.70715358e+00,  2.67056325e+00, -1.09820075e+00,\n",
       "         9.69845609e+00, -3.49052208e+00,  1.01613114e+01,  1.17395407e+00,\n",
       "        -1.24900216e+00, -5.57245652e+00, -1.03295184e+01,  8.74704473e+00,\n",
       "        -3.77497901e+00,  5.43018822e+00, -2.00132976e+01, -7.54338279e+00,\n",
       "         2.01084532e+01, -1.62619864e+01, -2.26384629e+01,  2.35100705e+01,\n",
       "         2.77335214e+00,  1.19208852e+01, -1.16617160e+00,  1.19501967e+01,\n",
       "        -2.09469633e+01,  7.75157890e-01,  7.64532673e+00, -1.21082398e+01,\n",
       "        -2.05126411e+01, -1.83640981e+00,  2.70131488e+00,  1.03968555e+00,\n",
       "         3.26800829e+00,  1.44813192e+01,  2.35798830e+00,  9.18309811e+00,\n",
       "         2.82866600e-01,  1.28040391e+01, -1.48556480e+01, -2.78671317e+00,\n",
       "        -1.40761528e+01,  6.37992029e+00, -1.44832627e+01,  1.31148494e+01,\n",
       "        -1.47787329e+00,  8.32390333e+00, -3.04945142e+00,  1.02184057e+01,\n",
       "         5.44052254e-01,  1.24178242e+01, -1.03429305e+01,  1.58796227e+01,\n",
       "         5.04240117e+00,  2.14411750e+00,  3.20465642e+00, -5.73866623e+00,\n",
       "         9.59158387e+00, -2.69994570e+00, -2.57221653e+00,  2.38747815e-01,\n",
       "        -1.54719295e+01,  1.64597284e+00,  1.36013936e+01, -1.28526469e+01,\n",
       "        -3.55358767e+00,  1.39754783e+01,  7.53186581e+00,  9.93211106e-01,\n",
       "        -2.94150685e+00, -6.66196167e+00,  4.82238449e-01,  1.45273628e+01,\n",
       "         2.09275565e+01,  1.48377230e+01,  8.22116209e+00,  4.44058213e+00,\n",
       "         1.99066376e+01, -1.87815524e+01,  9.02784855e+00,  6.88446307e-01,\n",
       "         3.91340799e+00, -1.00850207e+00, -1.60850124e+01,  6.10756061e+00,\n",
       "        -2.50021960e+01,  1.07873421e+01, -5.89414061e+00,  1.02884516e+01,\n",
       "         8.75406528e+00, -9.05496149e+00, -4.10574286e-01, -5.09330602e+00,\n",
       "         2.60520041e+01,  3.03141286e+01,  1.70525576e+01, -6.27545812e+00,\n",
       "        -2.65847356e+00,  2.92920219e+00,  1.52141232e+01, -1.76315227e+01,\n",
       "         3.58141075e+00, -4.30880301e+00,  3.37393336e+00,  1.43309670e+01,\n",
       "        -1.10994410e+01, -6.15926866e+00,  1.86094036e+01,  4.08385900e+01,\n",
       "         1.09452282e+01, -1.24769641e+01,  2.08945403e+00, -1.33640477e-02,\n",
       "        -6.91982289e+00,  2.40836184e+01, -1.02319663e+01,  7.18774586e+00,\n",
       "        -1.38653843e+01, -1.17188576e+01,  5.87325631e+00,  1.27271041e+01,\n",
       "        -3.12883927e+00,  7.06449508e+00,  1.71447863e+00,  1.96844233e-01,\n",
       "        -1.71905855e+01, -6.55013936e+00,  8.59434566e+00,  4.72771941e+00,\n",
       "        -1.22862644e+01,  3.93228357e+00,  1.49359085e+01,  5.04733369e+00,\n",
       "        -2.39069444e+00, -8.38080090e+00,  7.75251007e+00, -4.43788774e+00,\n",
       "        -1.21150052e+01, -1.62562895e+00,  4.85985573e-02,  9.57913901e+00,\n",
       "         8.12249825e+00,  6.87683022e+00,  5.24009583e+00, -1.63456672e+01,\n",
       "         8.15397989e-01,  8.14341389e+00,  2.12680089e+00, -1.28272887e+00,\n",
       "         5.66208208e+00,  4.53144380e+00, -2.34017001e-01, -3.76744764e+01,\n",
       "        -3.79987376e-02,  2.03255531e+00, -1.25314278e+01, -3.41363122e+00,\n",
       "        -1.76003284e+01,  3.68664846e+00,  9.66427775e+00,  1.00643325e+01,\n",
       "        -1.92035828e+00, -1.70518174e+01,  6.01109180e+00,  8.30990556e+00,\n",
       "         6.10022409e+00,  1.18753080e+01,  1.33522324e+01, -1.95856841e+01,\n",
       "        -3.75678739e+00,  1.68268810e+01, -1.45045337e+01, -2.62750328e+00,\n",
       "         1.03634626e+01, -5.59565769e-01,  1.44438464e+01, -5.01299253e+00,\n",
       "        -1.45725850e+00, -8.09780358e+00, -9.42511898e+00,  1.20211090e+01,\n",
       "        -7.03129177e+00, -1.40582221e+01, -4.07950323e+00,  1.14475046e+01,\n",
       "         7.46569443e+00, -2.11807960e+01]),\n",
       " array([  2.41154662,   2.36652077,   4.95718958,   2.95091702,\n",
       "         -4.07599305,  -3.89414289,   3.62365564, -11.76887427,\n",
       "          0.15806749,   9.40957723,   2.97908508,   6.84432608,\n",
       "         21.90694859,  -8.09917799,   0.09979425,   7.48388563,\n",
       "        -12.68503107,  19.74402009, -12.96295169,  -0.76755255,\n",
       "          2.33521048,  -4.57523941,  -6.55595839,  -1.05099737,\n",
       "          7.07991522,  -3.68766579,  -7.31401649,   5.54383802,\n",
       "          3.19170732,  -3.92218253,  -7.55288333,  -9.41330857,\n",
       "          1.19210837,  -4.56775365,  -7.4873477 ,   1.02456851,\n",
       "          3.52026434,   1.63101507,  -7.82124904,  -3.95265434,\n",
       "         10.3782681 ,  -7.733114  ,  -2.35605579,  -4.40500304,\n",
       "         -5.58579658,   3.01508465,   4.05443561,  15.26409088,\n",
       "         -2.24741213,  -1.53463185,  -4.64796282,   6.36020797,\n",
       "          5.03408781,  -1.39565729,   7.63130797,   2.50878396,\n",
       "         -8.79435473,  -1.61513191,   1.40859227,  -6.04207066,\n",
       "          6.3044112 ,  -7.97281483,  -1.54105355,  -0.13963979,\n",
       "         -1.69133964,  -9.77692111,  10.51211779,  -5.14657243,\n",
       "         -1.36134657,  -0.05899774,   2.04650733,  12.12056952,\n",
       "         -8.94511705,  17.64659174,  -9.70004203,  -1.31257903,\n",
       "          7.88079441,  -3.53463241,  -1.33690131,   0.72878334,\n",
       "          1.64768354,  -6.58089551,  -3.13697002,   7.31033256,\n",
       "          1.84661749,  10.97593188,   1.42884839,  -8.87440273,\n",
       "          1.57646003,   7.55099647,   0.31464551,  -3.89439335,\n",
       "          8.34751709,   4.32305105,  -2.70496968,  -5.95013763,\n",
       "        -14.81580456,   5.98110007,  15.57091005,  -2.78977768,\n",
       "         -1.26312069,   6.18511467,   1.14494436,   3.16912866,\n",
       "          3.38029459,  -2.74173491, -11.50356855,   6.64291654,\n",
       "        -11.3808673 , -11.0801647 ,  11.76020433,   5.11518476,\n",
       "          5.84577766,   1.89067658,   7.43318784,   5.78375606,\n",
       "         -9.44996091,  -6.54111246,   7.32033902,  -2.93361521,\n",
       "          3.76895821,   3.99813509,   4.35445439,  -4.58284814,\n",
       "         12.05227575,   1.73581989,   5.2353327 ,  -3.30880723,\n",
       "         -0.39403817,   0.35967919,   6.52482314,  -7.4412368 ,\n",
       "          0.0914562 ,  -1.11493297,  -5.88002987, -22.83641553,\n",
       "         12.25954596,   4.44780306, -11.41850635,   5.57367705,\n",
       "         -5.50494729,  -2.40244274,   3.60885579,   9.88277687,\n",
       "         -4.90630565,  14.0007877 ,  -4.24722601,  10.62142656,\n",
       "         -3.73934677,   5.89980831,   2.90931787, -15.92052646,\n",
       "          3.62571009,   2.56288302,  -6.04236876,   9.70047325,\n",
       "         -5.17905586,  11.47853145,  -4.93757074,  -1.67208526,\n",
       "        -21.83771492,  -6.91089755,  -0.58860555,  -1.92601477,\n",
       "          4.43723123,  10.75893845,  -4.98416675,  -2.70310613,\n",
       "         13.63232472, -11.1281599 ,   6.31893961,   4.42669168,\n",
       "         16.13879903, -13.33542768,   0.81338611,   0.04150465,\n",
       "         23.09431555, -12.31199143,  -2.26501402,  15.29815497,\n",
       "          2.49422569,  -3.6564866 ,   2.14888761,   7.66429557,\n",
       "          2.49419806,  -7.04204854,   1.86327133,   3.48045269,\n",
       "          2.36748299,   2.58519583, -14.66958154, -13.93560444,\n",
       "          6.95618099,   2.71654116,  -5.85402574, -14.75163595,\n",
       "          0.48748799,   0.42666777,   4.27203745,  -3.95822662,\n",
       "          2.80062014,  -3.37377448,  -5.36254778,  -9.61300853,\n",
       "        -18.77549935,  12.71644736,   5.9628281 , -32.87809326,\n",
       "          8.41941235,  -5.87848057,   2.56850482,  -8.06388905,\n",
       "          7.92117505,  -3.28671189,   3.21437352,   2.09937125,\n",
       "          4.39980728,   0.78702667, -12.21086459,   8.53741579,\n",
       "         -2.75185353,   7.57116614,   4.43294873,  -8.62918358,\n",
       "          0.83952437, -18.48508147,   4.69589217,   9.56100688,\n",
       "          4.94763907,   8.44860316,  -7.99847125,  -7.43123824,\n",
       "          0.94890975,  -5.55011962, -13.26042098,   6.48573453,\n",
       "        -17.39488871,   1.93222305,   2.73376864,   2.29128875,\n",
       "        -14.55793816,   6.25308774, -10.77334905,   9.58336155,\n",
       "        -10.98684022,  21.10899926,  -1.97580338,  -8.79431444,\n",
       "          6.00754001,  -5.56183904,   4.49552168,  -4.729968  ,\n",
       "          9.46747391,   1.67530036,  -2.19411836, -11.6934646 ,\n",
       "          2.54245714,   5.81890455,   1.80282667,  -6.55669357,\n",
       "          1.17081875,   1.24423555,  -7.82471804,  -2.11021442,\n",
       "          3.54985908, -12.63814964,  -0.19425567,   4.49589177,\n",
       "          4.25813677,  -2.66329029, -14.82920634,  -6.55978743,\n",
       "        -10.82757547,   6.63905637, -12.9706466 ,  -8.78167249,\n",
       "          7.48499755, -19.32702326,   7.1470695 ,   4.47228025,\n",
       "         -4.37022741,   0.61918829,  -8.88439192,  16.98038115,\n",
       "          6.15140838, -12.94379606,  -3.61282358,  -0.35210986,\n",
       "         21.61355462,   2.27888604,   9.7915569 ,   2.43867907,\n",
       "          0.37299348,   2.23794085,   8.57688564,   4.33307791,\n",
       "         -1.56320396,  -5.83784861,  -2.14248732,  -0.86619123,\n",
       "          6.39603635,   6.33298202,   2.33984772,   1.4947434 ,\n",
       "         -7.35331076,  -6.70822499,   2.91375967,   5.74233971,\n",
       "         -3.8876711 ,   6.94811487,  -7.94747561,  11.56936615,\n",
       "          2.81399564,   3.0763721 ,   2.33025851,   5.20158021,\n",
       "         -5.94676682,  -9.09205349,  -8.9804697 ,  -1.31352095,\n",
       "         -7.3123433 ,   2.5286311 ,   2.13858482,  -4.61814615,\n",
       "          2.81598036,   1.67841406,   4.74693317,  -0.91651986,\n",
       "          5.75559667, -10.00070862,  19.24041841,  -7.17210083,\n",
       "         -2.04512957,  -6.43287018, -27.53519682,  -5.30636964,\n",
       "         -2.4830988 ,   1.66234808,  -3.56803546,  -2.40352118,\n",
       "          4.35612726,   8.98658568,   3.75208104,  -4.50457123,\n",
       "         -9.51006078,  -1.07366265,  -9.90675693,   9.0667037 ,\n",
       "        -10.75531611,   2.39543883,  -1.02004221, -11.35775755,\n",
       "         -1.93564839,   1.36360685,   2.83277952,   1.61597973,\n",
       "         -2.41669932,  -1.82922048, -11.32568202,  -1.70308199,\n",
       "          6.18246988,  -7.00869656, -13.74985135,  -1.16859232,\n",
       "        -12.18198978,   4.9496907 ,  -9.11193091,  -7.27859845,\n",
       "          5.12688966, -13.4328819 ,  15.72822824,   9.0346596 ,\n",
       "          0.5587698 ,  -0.7171124 ,  -5.5501895 ,   7.00101576,\n",
       "         -0.8752977 ,   3.04479626, -13.60631888,   3.64009302,\n",
       "          5.2554455 ,   2.04756886,  -5.58281514,  -0.40713161,\n",
       "          1.48506976,   8.69390867,   4.3096741 ,  -2.28840132,\n",
       "        -22.01295199,  14.00225129,  -2.676913  , -16.48747742,\n",
       "          4.6678634 ,  -7.26149433,  -0.46151219, -10.23210853,\n",
       "         -8.53862588,  12.17320473,  -2.40897956,  -8.52385693,\n",
       "         12.50838943])]"
      ]
     },
     "execution_count": 8,
     "metadata": {},
     "output_type": "execute_result"
    }
   ],
   "source": [
    "wave_lst = []\n",
    "# w = pywt.Wavelet('sym5')\n",
    "for j in range(0,len(X)):\n",
    "    temp  = []\n",
    "    for i in pywt.wavedec(X[j],'db2',level = 2):\n",
    "        temp.append(i)\n",
    "    wave_lst.append(temp)\n",
    "# kmeans = KMeans(n_clusters=5, random_state=0).fit(np.array(wave_lst[0]))\n",
    "#         me = kmeans.transform(i)       \n",
    "# for i in pywt.wavedec(X[0],'db2',level = 2):\n",
    "#     wave_lst.append(i)\n",
    "# kmeans = KMeans(n_clusters=5, random_state=0).fit(wave_lst)\n",
    "# wave_lst = []\n",
    "# for i in range(0,len(X)):\n",
    "#     temp =[]\n",
    "#     for j in pywt.wavedec(meditation_lst[i],'db2',level = 2):\n",
    "#         wave_lst.append(j)\n",
    "# wave_lst[0]\n",
    "# X = np.array(wave_lst)\n",
    "# X[0].shape\n",
    "# kmeans = KMeans(n_clusters=5, random_state=0).fit()\n",
    "# coeffs = wavedecn(np.ones((4, 4, 4)), 'db1')\n",
    "wave_lst[0]"
   ]
  },
  {
   "cell_type": "code",
   "execution_count": 7,
   "metadata": {},
   "outputs": [
    {
     "data": {
      "text/plain": [
       "(3, 1)"
      ]
     },
     "execution_count": 7,
     "metadata": {},
     "output_type": "execute_result"
    }
   ],
   "source": [
    "wave_lst = np.array(wave_lst[0]).reshape(3,1)\n",
    "wave_lst.shape\n",
    "# kmeans = KMeans(n_clusters=5, random_state=0).fit(wave_lst)\n",
    "# me = kmeans.transform(wave_lst)"
   ]
  },
  {
   "cell_type": "code",
   "execution_count": 882,
   "metadata": {},
   "outputs": [],
   "source": [
    "kmeans = KMeans(n_clusters=2, random_state=0).fit(dt)"
   ]
  },
  {
   "cell_type": "code",
   "execution_count": 883,
   "metadata": {},
   "outputs": [
    {
     "data": {
      "text/plain": [
       "KMeans(algorithm='auto', copy_x=True, init='k-means++', max_iter=300,\n",
       "    n_clusters=2, n_init=10, n_jobs=1, precompute_distances='auto',\n",
       "    random_state=0, tol=0.0001, verbose=0)"
      ]
     },
     "execution_count": 883,
     "metadata": {},
     "output_type": "execute_result"
    }
   ],
   "source": [
    "kmeans"
   ]
  },
  {
   "cell_type": "code",
   "execution_count": 878,
   "metadata": {},
   "outputs": [
    {
     "data": {
      "text/plain": [
       "401"
      ]
     },
     "execution_count": 878,
     "metadata": {},
     "output_type": "execute_result"
    }
   ],
   "source": [
    "len(wave_lst[0][2])"
   ]
  },
  {
   "cell_type": "code",
   "execution_count": 867,
   "metadata": {},
   "outputs": [
    {
     "ename": "TypeError",
     "evalue": "float() argument must be a string or a number",
     "output_type": "error",
     "traceback": [
      "\u001b[0;31m---------------------------------------------------------------------------\u001b[0m",
      "\u001b[0;31mTypeError\u001b[0m                                 Traceback (most recent call last)",
      "\u001b[0;32m<ipython-input-867-669f56f00bfa>\u001b[0m in \u001b[0;36m<module>\u001b[0;34m()\u001b[0m\n\u001b[0;32m----> 1\u001b[0;31m \u001b[0mkmeans\u001b[0m \u001b[0;34m=\u001b[0m \u001b[0mKMeans\u001b[0m\u001b[0;34m(\u001b[0m\u001b[0mn_clusters\u001b[0m\u001b[0;34m=\u001b[0m\u001b[0;36m5\u001b[0m\u001b[0;34m,\u001b[0m \u001b[0mrandom_state\u001b[0m\u001b[0;34m=\u001b[0m\u001b[0;36m0\u001b[0m\u001b[0;34m)\u001b[0m\u001b[0;34m.\u001b[0m\u001b[0mfit\u001b[0m\u001b[0;34m(\u001b[0m\u001b[0mwave_lst\u001b[0m\u001b[0;34m)\u001b[0m\u001b[0;34m\u001b[0m\u001b[0m\n\u001b[0m\u001b[1;32m      2\u001b[0m \u001b[0mme\u001b[0m \u001b[0;34m=\u001b[0m \u001b[0mkmeans\u001b[0m\u001b[0;34m.\u001b[0m\u001b[0mtransform\u001b[0m\u001b[0;34m(\u001b[0m\u001b[0mwave_lst\u001b[0m\u001b[0;34m)\u001b[0m\u001b[0;34m\u001b[0m\u001b[0m\n\u001b[1;32m      3\u001b[0m \u001b[0;31m# X = np.array(new_cluster)\u001b[0m\u001b[0;34m\u001b[0m\u001b[0;34m\u001b[0m\u001b[0m\n\u001b[1;32m      4\u001b[0m \u001b[0;31m# fig = plt.figure(figsize = (16,7))\u001b[0m\u001b[0;34m\u001b[0m\u001b[0;34m\u001b[0m\u001b[0m\n\u001b[1;32m      5\u001b[0m \u001b[0;31m# plt.plot(X,'.')\u001b[0m\u001b[0;34m\u001b[0m\u001b[0;34m\u001b[0m\u001b[0m\n",
      "\u001b[0;32m/anaconda2/lib/python2.7/site-packages/sklearn/cluster/k_means_.pyc\u001b[0m in \u001b[0;36mfit\u001b[0;34m(self, X, y)\u001b[0m\n\u001b[1;32m    885\u001b[0m         \"\"\"\n\u001b[1;32m    886\u001b[0m         \u001b[0mrandom_state\u001b[0m \u001b[0;34m=\u001b[0m \u001b[0mcheck_random_state\u001b[0m\u001b[0;34m(\u001b[0m\u001b[0mself\u001b[0m\u001b[0;34m.\u001b[0m\u001b[0mrandom_state\u001b[0m\u001b[0;34m)\u001b[0m\u001b[0;34m\u001b[0m\u001b[0m\n\u001b[0;32m--> 887\u001b[0;31m         \u001b[0mX\u001b[0m \u001b[0;34m=\u001b[0m \u001b[0mself\u001b[0m\u001b[0;34m.\u001b[0m\u001b[0m_check_fit_data\u001b[0m\u001b[0;34m(\u001b[0m\u001b[0mX\u001b[0m\u001b[0;34m)\u001b[0m\u001b[0;34m\u001b[0m\u001b[0m\n\u001b[0m\u001b[1;32m    888\u001b[0m \u001b[0;34m\u001b[0m\u001b[0m\n\u001b[1;32m    889\u001b[0m         \u001b[0mself\u001b[0m\u001b[0;34m.\u001b[0m\u001b[0mcluster_centers_\u001b[0m\u001b[0;34m,\u001b[0m \u001b[0mself\u001b[0m\u001b[0;34m.\u001b[0m\u001b[0mlabels_\u001b[0m\u001b[0;34m,\u001b[0m \u001b[0mself\u001b[0m\u001b[0;34m.\u001b[0m\u001b[0minertia_\u001b[0m\u001b[0;34m,\u001b[0m \u001b[0mself\u001b[0m\u001b[0;34m.\u001b[0m\u001b[0mn_iter_\u001b[0m \u001b[0;34m=\u001b[0m\u001b[0;31m \u001b[0m\u001b[0;31m\\\u001b[0m\u001b[0;34m\u001b[0m\u001b[0m\n",
      "\u001b[0;32m/anaconda2/lib/python2.7/site-packages/sklearn/cluster/k_means_.pyc\u001b[0m in \u001b[0;36m_check_fit_data\u001b[0;34m(self, X)\u001b[0m\n\u001b[1;32m    856\u001b[0m     \u001b[0;32mdef\u001b[0m \u001b[0m_check_fit_data\u001b[0m\u001b[0;34m(\u001b[0m\u001b[0mself\u001b[0m\u001b[0;34m,\u001b[0m \u001b[0mX\u001b[0m\u001b[0;34m)\u001b[0m\u001b[0;34m:\u001b[0m\u001b[0;34m\u001b[0m\u001b[0m\n\u001b[1;32m    857\u001b[0m         \u001b[0;34m\"\"\"Verify that the number of samples given is larger than k\"\"\"\u001b[0m\u001b[0;34m\u001b[0m\u001b[0m\n\u001b[0;32m--> 858\u001b[0;31m         \u001b[0mX\u001b[0m \u001b[0;34m=\u001b[0m \u001b[0mcheck_array\u001b[0m\u001b[0;34m(\u001b[0m\u001b[0mX\u001b[0m\u001b[0;34m,\u001b[0m \u001b[0maccept_sparse\u001b[0m\u001b[0;34m=\u001b[0m\u001b[0;34m'csr'\u001b[0m\u001b[0;34m,\u001b[0m \u001b[0mdtype\u001b[0m\u001b[0;34m=\u001b[0m\u001b[0;34m[\u001b[0m\u001b[0mnp\u001b[0m\u001b[0;34m.\u001b[0m\u001b[0mfloat64\u001b[0m\u001b[0;34m,\u001b[0m \u001b[0mnp\u001b[0m\u001b[0;34m.\u001b[0m\u001b[0mfloat32\u001b[0m\u001b[0;34m]\u001b[0m\u001b[0;34m)\u001b[0m\u001b[0;34m\u001b[0m\u001b[0m\n\u001b[0m\u001b[1;32m    859\u001b[0m         \u001b[0;32mif\u001b[0m \u001b[0mX\u001b[0m\u001b[0;34m.\u001b[0m\u001b[0mshape\u001b[0m\u001b[0;34m[\u001b[0m\u001b[0;36m0\u001b[0m\u001b[0;34m]\u001b[0m \u001b[0;34m<\u001b[0m \u001b[0mself\u001b[0m\u001b[0;34m.\u001b[0m\u001b[0mn_clusters\u001b[0m\u001b[0;34m:\u001b[0m\u001b[0;34m\u001b[0m\u001b[0m\n\u001b[1;32m    860\u001b[0m             raise ValueError(\"n_samples=%d should be >= n_clusters=%d\" % (\n",
      "\u001b[0;32m/anaconda2/lib/python2.7/site-packages/sklearn/utils/validation.pyc\u001b[0m in \u001b[0;36mcheck_array\u001b[0;34m(array, accept_sparse, dtype, order, copy, force_all_finite, ensure_2d, allow_nd, ensure_min_samples, ensure_min_features, warn_on_dtype, estimator)\u001b[0m\n\u001b[1;32m    431\u001b[0m                                       force_all_finite)\n\u001b[1;32m    432\u001b[0m     \u001b[0;32melse\u001b[0m\u001b[0;34m:\u001b[0m\u001b[0;34m\u001b[0m\u001b[0m\n\u001b[0;32m--> 433\u001b[0;31m         \u001b[0marray\u001b[0m \u001b[0;34m=\u001b[0m \u001b[0mnp\u001b[0m\u001b[0;34m.\u001b[0m\u001b[0marray\u001b[0m\u001b[0;34m(\u001b[0m\u001b[0marray\u001b[0m\u001b[0;34m,\u001b[0m \u001b[0mdtype\u001b[0m\u001b[0;34m=\u001b[0m\u001b[0mdtype\u001b[0m\u001b[0;34m,\u001b[0m \u001b[0morder\u001b[0m\u001b[0;34m=\u001b[0m\u001b[0morder\u001b[0m\u001b[0;34m,\u001b[0m \u001b[0mcopy\u001b[0m\u001b[0;34m=\u001b[0m\u001b[0mcopy\u001b[0m\u001b[0;34m)\u001b[0m\u001b[0;34m\u001b[0m\u001b[0m\n\u001b[0m\u001b[1;32m    434\u001b[0m \u001b[0;34m\u001b[0m\u001b[0m\n\u001b[1;32m    435\u001b[0m         \u001b[0;32mif\u001b[0m \u001b[0mensure_2d\u001b[0m\u001b[0;34m:\u001b[0m\u001b[0;34m\u001b[0m\u001b[0m\n",
      "\u001b[0;31mTypeError\u001b[0m: float() argument must be a string or a number"
     ]
    }
   ],
   "source": [
    "kmeans = KMeans(n_clusters=5, random_state=0).fit(wave_lst)\n",
    "me = kmeans.transform(wave_lst)\n",
    "# X = np.array(new_cluster)\n",
    "# fig = plt.figure(figsize = (16,7))\n",
    "# plt.plot(X,'.')"
   ]
  },
  {
   "cell_type": "code",
   "execution_count": 732,
   "metadata": {},
   "outputs": [],
   "source": [
    "#################################### data processing  ###########################################\n",
    "# meditation_lst = []\n",
    "# y = []\n",
    "# for j in range(0,len(X)):\n",
    "#     for i in range(0,20000,2000):\n",
    "#         meditation_lst.append(X1[j][i:i+2000])\n",
    "#         y.append(1)\n",
    "# for j in range(0,len(X2)):\n",
    "#     for i in range(0,20000,2000):\n",
    "#         meditation_lst.append(X2[j][i:i+2000])\n",
    "#         y.append(0)"
   ]
  },
  {
   "cell_type": "code",
   "execution_count": 648,
   "metadata": {
    "scrolled": true
   },
   "outputs": [],
   "source": [
    "################################# wavelet transform  ###########################################\n",
    "\n",
    "# all_lst = []\n",
    "# for i in range(0,len(meditation_lst)):\n",
    "#     temp = []\n",
    "#     for j in pywt.wavedec(meditation_lst[i], 'db2', level = 2):\n",
    "#         temp.append(j.mean())\n",
    "#         temp.append(j.max())\n",
    "#         temp.append(j.min())\n",
    "#         temp.append(j.std())\n",
    "#     all_lst.append(temp)\n",
    "# X = np.array(all_lst)\n",
    "# y = np.array(y)\n",
    "#     for wave in pywt.wavelist(): \n",
    "#         try: \n",
    "#             for j in pywt.wavedec(meditation_lst[i], wave, level = 7):\n",
    "#                 tmp_lst.append(j.mean())\n",
    "#         except:\n",
    "#             pass\n",
    "#     mean_lst.append(tmp_lst)\n",
    "\n",
    "# mean_array = np.array(mean_lst)\n",
    "# sel = VarianceThreshold(threshold=(.8 * (1 - .8)))\n",
    "# X = sel.fit_transform(mean_array)\n",
    "#PCA\n",
    "# pca = PCA(n_components=200)\n",
    "# X = pca.fit_transform(mean_array)\n",
    "# # pca.fit(mean_array.T)\n",
    "# # X = pca.components_\n",
    "# plt.plot(pca.explained_variance_ratio_) \n",
    "# X.shape\n",
    "# X = scipy.signal.medfilt(X,21) #median filter\n",
    "# from scipy.ndimage.filters import median_filter\n",
    "# X = median_filter(X, 3)\n",
    "# len(X[0])"
   ]
  },
  {
   "cell_type": "code",
   "execution_count": null,
   "metadata": {},
   "outputs": [],
   "source": []
  },
  {
   "cell_type": "code",
   "execution_count": 657,
   "metadata": {},
   "outputs": [
    {
     "ename": "ValueError",
     "evalue": "setting an array element with a sequence.",
     "output_type": "error",
     "traceback": [
      "\u001b[0;31m---------------------------------------------------------------------------\u001b[0m",
      "\u001b[0;31mValueError\u001b[0m                                Traceback (most recent call last)",
      "\u001b[0;32m<ipython-input-657-c2e3fdb5dfd4>\u001b[0m in \u001b[0;36m<module>\u001b[0;34m()\u001b[0m\n\u001b[1;32m     11\u001b[0m     \u001b[0my_combined\u001b[0m \u001b[0;34m=\u001b[0m \u001b[0mnp\u001b[0m\u001b[0;34m.\u001b[0m\u001b[0mhstack\u001b[0m\u001b[0;34m(\u001b[0m\u001b[0;34m(\u001b[0m\u001b[0my_train\u001b[0m\u001b[0;34m,\u001b[0m \u001b[0my_test\u001b[0m\u001b[0;34m)\u001b[0m\u001b[0;34m)\u001b[0m\u001b[0;34m\u001b[0m\u001b[0m\n\u001b[1;32m     12\u001b[0m     \u001b[0mme\u001b[0m \u001b[0;34m=\u001b[0m \u001b[0mLogisticRegression\u001b[0m\u001b[0;34m(\u001b[0m\u001b[0mC\u001b[0m \u001b[0;34m=\u001b[0m \u001b[0;36m100\u001b[0m\u001b[0;34m,\u001b[0m\u001b[0mpenalty\u001b[0m\u001b[0;34m=\u001b[0m\u001b[0;34m'l2'\u001b[0m\u001b[0;34m,\u001b[0m\u001b[0msolver\u001b[0m\u001b[0;34m=\u001b[0m\u001b[0;34m'lbfgs'\u001b[0m\u001b[0;34m)\u001b[0m\u001b[0;34m\u001b[0m\u001b[0m\n\u001b[0;32m---> 13\u001b[0;31m     \u001b[0mme\u001b[0m\u001b[0;34m.\u001b[0m\u001b[0mfit\u001b[0m\u001b[0;34m(\u001b[0m\u001b[0mX_train\u001b[0m\u001b[0;34m,\u001b[0m \u001b[0my_train\u001b[0m\u001b[0;34m)\u001b[0m\u001b[0;34m\u001b[0m\u001b[0m\n\u001b[0m\u001b[1;32m     14\u001b[0m     \u001b[0my_pred\u001b[0m \u001b[0;34m=\u001b[0m \u001b[0mme\u001b[0m\u001b[0;34m.\u001b[0m\u001b[0mpredict\u001b[0m\u001b[0;34m(\u001b[0m\u001b[0mX_test\u001b[0m\u001b[0;34m)\u001b[0m\u001b[0;34m\u001b[0m\u001b[0m\n\u001b[1;32m     15\u001b[0m     \u001b[0mstore\u001b[0m\u001b[0;34m.\u001b[0m\u001b[0mappend\u001b[0m\u001b[0;34m(\u001b[0m\u001b[0mme\u001b[0m\u001b[0;34m.\u001b[0m\u001b[0mscore\u001b[0m\u001b[0;34m(\u001b[0m\u001b[0mX_test\u001b[0m\u001b[0;34m,\u001b[0m\u001b[0my_test\u001b[0m\u001b[0;34m)\u001b[0m\u001b[0;34m)\u001b[0m\u001b[0;34m\u001b[0m\u001b[0m\n",
      "\u001b[0;32m/anaconda2/lib/python2.7/site-packages/sklearn/linear_model/logistic.pyc\u001b[0m in \u001b[0;36mfit\u001b[0;34m(self, X, y, sample_weight)\u001b[0m\n\u001b[1;32m   1214\u001b[0m \u001b[0;34m\u001b[0m\u001b[0m\n\u001b[1;32m   1215\u001b[0m         X, y = check_X_y(X, y, accept_sparse='csr', dtype=_dtype,\n\u001b[0;32m-> 1216\u001b[0;31m                          order=\"C\")\n\u001b[0m\u001b[1;32m   1217\u001b[0m         \u001b[0mcheck_classification_targets\u001b[0m\u001b[0;34m(\u001b[0m\u001b[0my\u001b[0m\u001b[0;34m)\u001b[0m\u001b[0;34m\u001b[0m\u001b[0m\n\u001b[1;32m   1218\u001b[0m         \u001b[0mself\u001b[0m\u001b[0;34m.\u001b[0m\u001b[0mclasses_\u001b[0m \u001b[0;34m=\u001b[0m \u001b[0mnp\u001b[0m\u001b[0;34m.\u001b[0m\u001b[0munique\u001b[0m\u001b[0;34m(\u001b[0m\u001b[0my\u001b[0m\u001b[0;34m)\u001b[0m\u001b[0;34m\u001b[0m\u001b[0m\n",
      "\u001b[0;32m/anaconda2/lib/python2.7/site-packages/sklearn/utils/validation.pyc\u001b[0m in \u001b[0;36mcheck_X_y\u001b[0;34m(X, y, accept_sparse, dtype, order, copy, force_all_finite, ensure_2d, allow_nd, multi_output, ensure_min_samples, ensure_min_features, y_numeric, warn_on_dtype, estimator)\u001b[0m\n\u001b[1;32m    571\u001b[0m     X = check_array(X, accept_sparse, dtype, order, copy, force_all_finite,\n\u001b[1;32m    572\u001b[0m                     \u001b[0mensure_2d\u001b[0m\u001b[0;34m,\u001b[0m \u001b[0mallow_nd\u001b[0m\u001b[0;34m,\u001b[0m \u001b[0mensure_min_samples\u001b[0m\u001b[0;34m,\u001b[0m\u001b[0;34m\u001b[0m\u001b[0m\n\u001b[0;32m--> 573\u001b[0;31m                     ensure_min_features, warn_on_dtype, estimator)\n\u001b[0m\u001b[1;32m    574\u001b[0m     \u001b[0;32mif\u001b[0m \u001b[0mmulti_output\u001b[0m\u001b[0;34m:\u001b[0m\u001b[0;34m\u001b[0m\u001b[0m\n\u001b[1;32m    575\u001b[0m         y = check_array(y, 'csr', force_all_finite=True, ensure_2d=False,\n",
      "\u001b[0;32m/anaconda2/lib/python2.7/site-packages/sklearn/utils/validation.pyc\u001b[0m in \u001b[0;36mcheck_array\u001b[0;34m(array, accept_sparse, dtype, order, copy, force_all_finite, ensure_2d, allow_nd, ensure_min_samples, ensure_min_features, warn_on_dtype, estimator)\u001b[0m\n\u001b[1;32m    431\u001b[0m                                       force_all_finite)\n\u001b[1;32m    432\u001b[0m     \u001b[0;32melse\u001b[0m\u001b[0;34m:\u001b[0m\u001b[0;34m\u001b[0m\u001b[0m\n\u001b[0;32m--> 433\u001b[0;31m         \u001b[0marray\u001b[0m \u001b[0;34m=\u001b[0m \u001b[0mnp\u001b[0m\u001b[0;34m.\u001b[0m\u001b[0marray\u001b[0m\u001b[0;34m(\u001b[0m\u001b[0marray\u001b[0m\u001b[0;34m,\u001b[0m \u001b[0mdtype\u001b[0m\u001b[0;34m=\u001b[0m\u001b[0mdtype\u001b[0m\u001b[0;34m,\u001b[0m \u001b[0morder\u001b[0m\u001b[0;34m=\u001b[0m\u001b[0morder\u001b[0m\u001b[0;34m,\u001b[0m \u001b[0mcopy\u001b[0m\u001b[0;34m=\u001b[0m\u001b[0mcopy\u001b[0m\u001b[0;34m)\u001b[0m\u001b[0;34m\u001b[0m\u001b[0m\n\u001b[0m\u001b[1;32m    434\u001b[0m \u001b[0;34m\u001b[0m\u001b[0m\n\u001b[1;32m    435\u001b[0m         \u001b[0;32mif\u001b[0m \u001b[0mensure_2d\u001b[0m\u001b[0;34m:\u001b[0m\u001b[0;34m\u001b[0m\u001b[0m\n",
      "\u001b[0;31mValueError\u001b[0m: setting an array element with a sequence."
     ]
    }
   ],
   "source": [
    "# Logististic Regression\n",
    "sc = StandardScaler()\n",
    "store = []\n",
    "for i in range(10):\n",
    "    X_train, X_test, y_train, y_test = train_test_split(X, y, test_size=0.5)\n",
    "    sc = StandardScaler()\n",
    "    sc.fit(X_train)\n",
    "    X_train_std = sc.transform(X_train)\n",
    "    X_test_std = sc.transform(X_test)\n",
    "    X_combined_std = np.vstack((X_train_std, X_test_std))\n",
    "    y_combined = np.hstack((y_train, y_test))\n",
    "    me = LogisticRegression(C = 100,penalty='l2',solver='lbfgs')\n",
    "    me.fit(X_train, y_train)\n",
    "    y_pred = me.predict(X_test)\n",
    "    store.append(me.score(X_test,y_test))\n",
    "    print 'Ture value   : ' ,y_test\n",
    "    print 'Predict value :',y_pred\n",
    "    print 'Mean score :  ', np.mean(store)"
   ]
  },
  {
   "cell_type": "code",
   "execution_count": 650,
   "metadata": {},
   "outputs": [
    {
     "data": {
      "text/plain": [
       "nan"
      ]
     },
     "execution_count": 650,
     "metadata": {},
     "output_type": "execute_result"
    }
   ],
   "source": [
    "np.mean(store)"
   ]
  },
  {
   "cell_type": "code",
   "execution_count": 417,
   "metadata": {},
   "outputs": [
    {
     "name": "stdout",
     "output_type": "stream",
     "text": [
      "10-fold cross validation average accuracy: 0.484\n"
     ]
    }
   ],
   "source": [
    "from sklearn import model_selection\n",
    "from sklearn.model_selection import cross_val_score\n",
    "kfold = model_selection.KFold(n_splits=9, random_state=7)\n",
    "modelCV = LogisticRegression()\n",
    "scoring = 'accuracy'\n",
    "results = model_selection.cross_val_score(modelCV, X_train, y_train, cv=kfold, scoring=scoring)\n",
    "print(\"10-fold cross validation average accuracy: %.3f\" % (results.mean()))"
   ]
  },
  {
   "cell_type": "code",
   "execution_count": 418,
   "metadata": {},
   "outputs": [],
   "source": [
    "#SVM\n",
    "store = []\n",
    "for i in range(100):\n",
    "    X_train, X_test, y_train, y_test = train_test_split(X, y, test_size=0.3)\n",
    "    clf = svm.SVC()\n",
    "    clf.fit(X_train, y_train)  \n",
    "    store.append(clf.score(X_test, y_test))"
   ]
  },
  {
   "cell_type": "code",
   "execution_count": 419,
   "metadata": {},
   "outputs": [
    {
     "data": {
      "text/plain": [
       "0.6913294797687861"
      ]
     },
     "execution_count": 419,
     "metadata": {},
     "output_type": "execute_result"
    }
   ],
   "source": [
    "np.mean(store)"
   ]
  },
  {
   "cell_type": "code",
   "execution_count": 276,
   "metadata": {},
   "outputs": [
    {
     "name": "stdout",
     "output_type": "stream",
     "text": [
      "[[ 2.90126698e+00  5.75755743e+02 -6.45020383e+02  1.07520834e+02\n",
      "  -1.66728398e-01  2.15082905e+02 -1.98207374e+02  4.00276734e+01\n",
      "  -3.40147540e-01  1.23556041e+02 -1.10617920e+02  3.03616199e+01\n",
      "   4.16684806e-02  6.96841424e+01 -7.98255199e+01  1.83717325e+01\n",
      "   3.58584900e-05  4.63609316e+01 -4.33781708e+01  6.84986113e+00\n",
      "   1.15597846e-02  4.53602850e+01 -4.66385383e+01  8.11377867e+00]\n",
      " [ 3.47515282e+00  5.76623147e+03 -6.51758834e+03  1.27118436e+03\n",
      "  -8.61497609e+00  2.72297445e+03 -3.46794456e+03  5.79628118e+02\n",
      "   2.80228678e-01  1.47829486e+03 -1.33707783e+03  2.45846915e+02\n",
      "  -3.55894965e-01  7.96177178e+02 -9.51144071e+02  1.07444887e+02\n",
      "   4.18020306e-01  3.03838092e+02 -2.55291190e+02  4.09458272e+01\n",
      "   9.39264005e-02  1.33606699e+02 -2.34034723e+02  1.76810261e+01]]\n"
     ]
    },
    {
     "data": {
      "text/plain": [
       "<matplotlib.collections.PathCollection at 0x1c156e8550>"
      ]
     },
     "execution_count": 276,
     "metadata": {},
     "output_type": "execute_result"
    },
    {
     "data": {
      "image/png": "[encoded data removed]",
      "text/plain": [
       "<Figure size 432x288 with 1 Axes>"
      ]
     },
     "metadata": {},
     "output_type": "display_data"
    }
   ],
   "source": [
    "from sklearn.cluster import KMeans\n",
    "# create kmeans object\n",
    "kmeans = KMeans(n_clusters=2)\n",
    "# fit kmeans object to data\n",
    "kmeans.fit(X)\n",
    "# print location of clusters learned by kmeans object\n",
    "print(kmeans.cluster_centers_)\n",
    "# save new clusters for chart\n",
    "y_km = kmeans.fit_predict(X)\n",
    "plt.scatter(X[y_km ==0,0], X[y_km == 0,1], s=100, c='red')\n",
    "plt.scatter(X[y_km ==1,0], X[y_km == 1,1], s=100, c='black')\n",
    "# plt.scatter(X[y_km ==2,0], X[y_km == 2,1], s=100, c='blue')\n",
    "# plt.scatter(X[y_km ==3,0], X[y_km == 3,1], s=100, c='cyan')"
   ]
  },
  {
   "cell_type": "code",
   "execution_count": 246,
   "metadata": {},
   "outputs": [
    {
     "data": {
      "text/plain": [
       "<matplotlib.collections.PathCollection at 0x1c15643490>"
      ]
     },
     "execution_count": 246,
     "metadata": {},
     "output_type": "execute_result"
    },
    {
     "data": {
      "image/png": "[encoded data removed]",
      "text/plain": [
       "<Figure size 432x288 with 1 Axes>"
      ]
     },
     "metadata": {},
     "output_type": "display_data"
    }
   ],
   "source": [
    "import scipy.cluster.hierarchy as sch\n",
    "from sklearn.cluster import AgglomerativeClustering\n",
    "\n",
    "# create dendrogram\n",
    "dendrogram = sch.dendrogram(sch.linkage(X, method='ward'))\n",
    "# create clusters\n",
    "hc = AgglomerativeClustering(n_clusters=4, affinity = 'euclidean', linkage = 'ward')\n",
    "# save clusters for chart\n",
    "y_hc = hc.fit_predict(X)\n",
    "plt.scatter(X[y_hc ==0,0], X[y_hc == 0,1], s=100, c='red')\n",
    "plt.scatter(X[y_hc==1,0], X[y_hc == 1,1], s=100, c='black')\n",
    "plt.scatter(X[y_hc ==2,0], X[y_hc == 2,1], s=100, c='blue')\n",
    "plt.scatter(X[y_hc ==3,0], X[y_hc == 3,1], s=100, c='cyan')"
   ]
  },
  {
   "cell_type": "code",
   "execution_count": null,
   "metadata": {},
   "outputs": [],
   "source": []
  },
  {
   "cell_type": "code",
   "execution_count": null,
   "metadata": {},
   "outputs": [],
   "source": []
  },
  {
   "cell_type": "code",
   "execution_count": 14,
   "metadata": {},
   "outputs": [],
   "source": [
    "# lst_1= []\n",
    "# for i in range(0,len(df)):\n",
    "#     data= df['data'][i].split(',')\n",
    "#     lst = data[1:79]\n",
    "#     lst_1 += map(float,lst)\n",
    "# arr = np.array(lst_1)"
   ]
  },
  {
   "cell_type": "code",
   "execution_count": 15,
   "metadata": {},
   "outputs": [],
   "source": [
    "# x = np.linspace(0,len(arr[:180*160])/160.6,len(arr[:180*160]))\n",
    "# y = arr[:180*160]\n",
    "# fig = plt.figure(figsize = (16,7))\n",
    "# plt.xlabel('Time(sec)')\n",
    "# plt.ylabel('Voltage(Vm)')\n",
    "# plt.title('Meditation')\n",
    "# plt.plot(x,y,'y-')\n",
    "# plt.grid()\n",
    "# plt.show()"
   ]
  },
  {
   "cell_type": "code",
   "execution_count": null,
   "metadata": {},
   "outputs": [],
   "source": [
    "# import pywt\n",
    "# for i in range(0,11):\n",
    "#     coeffs= pywt.wavedec(arr_1[320:3200], 'db5', level = 7) "
   ]
  }
 ],
 "metadata": {
  "kernelspec": {
   "display_name": "Python 3",
   "language": "python",
   "name": "python3"
  },
  "language_info": {
   "codemirror_mode": {
    "name": "ipython",
    "version": 3
   },
   "file_extension": ".py",
   "mimetype": "text/x-python",
   "name": "python",
   "nbconvert_exporter": "python",
   "pygments_lexer": "ipython3",
   "version": "3.6.5"
  }
 },
 "nbformat": 4,
 "nbformat_minor": 2
}
